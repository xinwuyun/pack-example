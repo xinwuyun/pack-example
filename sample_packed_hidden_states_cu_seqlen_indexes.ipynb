{
 "cells": [
  {
   "cell_type": "code",
   "execution_count": 1,
   "metadata": {},
   "outputs": [],
   "source": [
    "import torch"
   ]
  },
  {
   "cell_type": "code",
   "execution_count": null,
   "metadata": {},
   "outputs": [],
   "source": [
    "def unpack(hidden_states, cu_seqlens, max_seqlen):\n",
    "    \"\"\"Upack the packed hidden_states and pad to max_seqlen.\n",
    "\n",
    "    Args:\n",
    "        hidden_states (torch.tensor): size of hidden_states should be (pack_seqlen, hidden_size)\n",
    "        cu_seqlens (torch.tensor): cu_seqlen\n",
    "        max_seqlen (int): max length of the samples.\n",
    "\n",
    "    Returns:\n",
    "        torch.tensor: dtype same as hidden_states, size should be (len(cu_seqlens)-1, max_seqlen, hidden_size)\n",
    "    \"\"\"\n",
    "    batch_size = cu_seqlens.shape[0] - 1\n",
    "    hidden_size = hidden_states.shape[1]\n",
    "    output = torch.zeros(batch_size, max_seqlen, hidden_size, dtype=hidden_states.dtype, device=hidden_states.device)\n",
    "    for i in range(batch_size):\n",
    "        output[i, : cu_seqlens[i + 1] - cu_seqlens[i], :] = hidden_states[cu_seqlens[i] : cu_seqlens[i + 1], :]\n",
    "    return output\n",
    "\n",
    "def pack(unpacked_tensors, cu_seqlens):\n",
    "    \"\"\"Reverse function of unpack.\n",
    "\n",
    "    Args:\n",
    "        unpacked_tensors (torch.tensor): (batch_size, max_seqlen, hidden_size)\n",
    "        cu_seqlens (torch.tensor)\n",
    "\n",
    "    Returns:\n",
    "        torch.tensor: dtype should be (pack_seqlen, hidden_size)\n",
    "    \"\"\"\n",
    "    n_values = cu_seqlens[1:] - cu_seqlens[:-1]\n",
    "    batch_size, seq_len, hidden_size = unpacked_tensors.size()\n",
    "    seq_indices = (\n",
    "        torch.arange(seq_len, device=unpacked_tensors.device)\n",
    "        .unsqueeze(0)\n",
    "        .unsqueeze(2)\n",
    "        .repeat(batch_size, 1, hidden_size)\n",
    "    )\n",
    "    n_values_tensor_3d = n_values.unsqueeze(1).unsqueeze(2)\n",
    "    mask_3d = seq_indices < n_values_tensor_3d\n",
    "    selected_elements_3d = unpacked_tensors[mask_3d]\n",
    "    reshaped_tensor = selected_elements_3d.view(-1, hidden_size)\n",
    "    return reshaped_tensor\n"
   ]
  },
  {
   "cell_type": "markdown",
   "metadata": {
    "jp-MarkdownHeadingCollapsed": true
   },
   "source": [
    "## Sample"
   ]
  },
  {
   "cell_type": "code",
   "execution_count": 3,
   "metadata": {},
   "outputs": [],
   "source": [
    "cu_seqlens = torch.load('cu_seqlens.pt', map_location=\"cuda:0\")\n",
    "indexes = torch.load('indexes.pt', map_location=\"cuda:0\")\n",
    "hidden_states = torch.load('packed_hidden_states.pt', map_location=\"cuda:0\")"
   ]
  },
  {
   "cell_type": "code",
   "execution_count": 4,
   "metadata": {},
   "outputs": [
    {
     "data": {
      "text/plain": [
       "tensor([ 0,  1,  2,  ..., 76, 77, 78], device='cuda:0')"
      ]
     },
     "execution_count": 4,
     "metadata": {},
     "output_type": "execute_result"
    }
   ],
   "source": [
    "indexes"
   ]
  },
  {
   "cell_type": "code",
   "execution_count": 5,
   "metadata": {},
   "outputs": [
    {
     "data": {
      "text/plain": [
       "tensor([   0,   86,  241, 1103, 1574, 1969, 2048], device='cuda:0',\n",
       "       dtype=torch.int32)"
      ]
     },
     "execution_count": 5,
     "metadata": {},
     "output_type": "execute_result"
    }
   ],
   "source": [
    "cu_seqlens"
   ]
  },
  {
   "cell_type": "code",
   "execution_count": 6,
   "metadata": {},
   "outputs": [
    {
     "data": {
      "text/plain": [
       "tensor([  0,   1,   2,   3,   4,   5,   6,   7,   8,   9,  10,  11,  12,  13,\n",
       "         14,  15,  16,  17,  18,  19,  20,  21,  22,  23,  24,  25,  26,  27,\n",
       "         28,  29,  30,  31,  32,  33,  34,  35,  36,  37,  38,  39,  40,  41,\n",
       "         42,  43,  44,  45,  46,  47,  48,  49,  50,  51,  52,  53,  54,  55,\n",
       "         56,  57,  58,  59,  60,  61,  62,  63,  64,  65,  66,  67,  68,  69,\n",
       "         70,  71,  72,  73,  74,  75,  76,  77,  78,  79,  80,  81,  82,  83,\n",
       "         84,  85,  86,  87,  88,  89,  90,  91,  92,  93,  94,  95,  96,  97,\n",
       "         98,  99, 100, 101, 102, 103, 104, 105, 106, 107, 108, 109, 110, 111,\n",
       "        112, 113, 114, 115, 116, 117, 118, 119, 120, 121, 122, 123, 124, 125,\n",
       "        126, 127, 128, 129, 130, 131, 132, 133, 134, 135, 136, 137, 138, 139,\n",
       "        140, 141, 142, 143, 144, 145, 146, 147, 148, 149, 150, 151, 152, 153,\n",
       "        154], device='cuda:0')"
      ]
     },
     "execution_count": 6,
     "metadata": {},
     "output_type": "execute_result"
    }
   ],
   "source": [
    "indexes[86:241]"
   ]
  },
  {
   "cell_type": "code",
   "execution_count": 7,
   "metadata": {},
   "outputs": [
    {
     "data": {
      "text/plain": [
       "tensor([  0,   1,   2,   3,   4,   5,   6,   7,   8,   9,  10,  11,  12,  13,\n",
       "         14,  15,  16,  17,  18,  19,  20,  21,  22,  23,  24,  25,  26,  27,\n",
       "         28,  29,  30,  31,  32,  33,  34,  35,  36,  37,  38,  39,  40,  41,\n",
       "         42,  43,  44,  45,  46,  47,  48,  49,  50,  51,  52,  53,  54,  55,\n",
       "         56,  57,  58,  59,  60,  61,  62,  63,  64,  65,  66,  67,  68,  69,\n",
       "         70,  71,  72,  73,  74,  75,  76,  77,  78,  79,  80,  81,  82,  83,\n",
       "         84,  85,  86,  87,  88,  89,  90,  91,  92,  93,  94,  95,  96,  97,\n",
       "         98,  99, 100, 101, 102, 103, 104, 105, 106, 107, 108, 109, 110, 111,\n",
       "        112, 113, 114, 115, 116, 117, 118, 119, 120, 121, 122, 123, 124, 125,\n",
       "        126, 127, 128, 129, 130, 131, 132, 133, 134, 135, 136, 137, 138, 139,\n",
       "        140, 141, 142, 143, 144, 145, 146, 147, 148, 149, 150, 151, 152, 153,\n",
       "        154, 155, 156, 157, 158, 159, 160, 161, 162, 163, 164, 165, 166, 167,\n",
       "        168, 169, 170, 171, 172, 173, 174, 175, 176, 177, 178, 179, 180, 181,\n",
       "        182, 183, 184, 185, 186, 187, 188, 189, 190, 191, 192, 193, 194, 195,\n",
       "        196, 197, 198, 199, 200, 201, 202, 203, 204, 205, 206, 207, 208, 209,\n",
       "        210, 211, 212, 213, 214, 215, 216, 217, 218, 219, 220, 221, 222, 223,\n",
       "        224, 225, 226, 227, 228, 229, 230, 231, 232, 233, 234, 235, 236, 237,\n",
       "        238, 239, 240, 241, 242, 243, 244, 245, 246, 247, 248, 249, 250, 251,\n",
       "        252, 253, 254, 255, 256, 257, 258, 259, 260, 261, 262, 263, 264, 265,\n",
       "        266, 267, 268, 269, 270, 271, 272, 273, 274, 275, 276, 277, 278, 279,\n",
       "        280, 281, 282, 283, 284, 285, 286, 287, 288, 289, 290, 291, 292, 293,\n",
       "        294, 295, 296, 297, 298, 299, 300, 301, 302, 303, 304, 305, 306, 307,\n",
       "        308, 309, 310, 311, 312, 313, 314, 315, 316, 317, 318, 319, 320, 321,\n",
       "        322, 323, 324, 325, 326, 327, 328, 329, 330, 331, 332, 333, 334, 335,\n",
       "        336, 337, 338, 339, 340, 341, 342, 343, 344, 345, 346, 347, 348, 349,\n",
       "        350, 351, 352, 353, 354, 355, 356, 357, 358, 359, 360, 361, 362, 363,\n",
       "        364, 365, 366, 367, 368, 369, 370, 371, 372, 373, 374, 375, 376, 377,\n",
       "        378, 379, 380, 381, 382, 383, 384, 385, 386, 387, 388, 389, 390, 391,\n",
       "        392, 393, 394, 395, 396, 397, 398, 399, 400, 401, 402, 403, 404, 405,\n",
       "        406, 407, 408, 409, 410, 411, 412, 413, 414, 415, 416, 417, 418, 419,\n",
       "        420, 421, 422, 423, 424, 425, 426, 427, 428, 429, 430, 431, 432, 433,\n",
       "        434, 435, 436, 437, 438, 439, 440, 441, 442, 443, 444, 445, 446, 447,\n",
       "        448, 449, 450, 451, 452, 453, 454, 455, 456, 457, 458, 459, 460, 461,\n",
       "        462, 463, 464, 465, 466, 467, 468, 469, 470], device='cuda:0')"
      ]
     },
     "execution_count": 7,
     "metadata": {},
     "output_type": "execute_result"
    }
   ],
   "source": [
    "indexes[1103:1574]"
   ]
  },
  {
   "cell_type": "code",
   "execution_count": 8,
   "metadata": {},
   "outputs": [
    {
     "data": {
      "text/plain": [
       "tensor([  0,   1,   2,   3,   4,   5,   6,   7,   8,   9,  10,  11,  12,  13,\n",
       "         14,  15,  16,  17,  18,  19,  20,  21,  22,  23,  24,  25,  26,  27,\n",
       "         28,  29,  30,  31,  32,  33,  34,  35,  36,  37,  38,  39,  40,  41,\n",
       "         42,  43,  44,  45,  46,  47,  48,  49,  50,  51,  52,  53,  54,  55,\n",
       "         56,  57,  58,  59,  60,  61,  62,  63,  64,  65,  66,  67,  68,  69,\n",
       "         70,  71,  72,  73,  74,  75,  76,  77,  78,  79,  80,  81,  82,  83,\n",
       "         84,  85,  86,  87,  88,  89,  90,  91,  92,  93,  94,  95,  96,  97,\n",
       "         98,  99, 100, 101, 102, 103, 104, 105, 106, 107, 108, 109, 110, 111,\n",
       "        112, 113, 114, 115, 116, 117, 118, 119, 120, 121, 122, 123, 124, 125,\n",
       "        126, 127, 128, 129, 130, 131, 132, 133, 134, 135, 136, 137, 138, 139,\n",
       "        140, 141, 142, 143, 144, 145, 146, 147, 148, 149, 150, 151, 152, 153,\n",
       "        154, 155, 156, 157, 158, 159, 160, 161, 162, 163, 164, 165, 166, 167,\n",
       "        168, 169, 170, 171, 172, 173, 174, 175, 176, 177, 178, 179, 180, 181,\n",
       "        182, 183, 184, 185, 186, 187, 188, 189, 190, 191, 192, 193, 194, 195,\n",
       "        196, 197, 198, 199, 200, 201, 202, 203, 204, 205, 206, 207, 208, 209,\n",
       "        210, 211, 212, 213, 214, 215, 216, 217, 218, 219, 220, 221, 222, 223,\n",
       "        224, 225, 226, 227, 228, 229, 230, 231, 232, 233, 234, 235, 236, 237,\n",
       "        238, 239, 240, 241, 242, 243, 244, 245, 246, 247, 248, 249, 250, 251,\n",
       "        252, 253, 254, 255, 256, 257, 258, 259, 260, 261, 262, 263, 264, 265,\n",
       "        266, 267, 268, 269, 270, 271, 272, 273, 274, 275, 276, 277, 278, 279,\n",
       "        280, 281, 282, 283, 284, 285, 286, 287, 288, 289, 290, 291, 292, 293,\n",
       "        294, 295, 296, 297, 298, 299, 300, 301, 302, 303, 304, 305, 306, 307,\n",
       "        308, 309, 310, 311, 312, 313, 314, 315, 316, 317, 318, 319, 320, 321,\n",
       "        322, 323, 324, 325, 326, 327, 328, 329, 330, 331, 332, 333, 334, 335,\n",
       "        336, 337, 338, 339, 340, 341, 342, 343, 344, 345, 346, 347, 348, 349,\n",
       "        350, 351, 352, 353, 354, 355, 356, 357, 358, 359, 360, 361, 362, 363,\n",
       "        364, 365, 366, 367, 368, 369, 370, 371, 372, 373, 374, 375, 376, 377,\n",
       "        378, 379, 380, 381, 382, 383, 384, 385, 386, 387, 388, 389, 390, 391,\n",
       "        392, 393, 394], device='cuda:0')"
      ]
     },
     "execution_count": 8,
     "metadata": {},
     "output_type": "execute_result"
    }
   ],
   "source": [
    "indexes[1574:1969]"
   ]
  },
  {
   "cell_type": "code",
   "execution_count": 9,
   "metadata": {},
   "outputs": [
    {
     "data": {
      "text/plain": [
       "tensor([ 0,  1,  2,  3,  4,  5,  6,  7,  8,  9, 10, 11, 12, 13, 14, 15, 16, 17,\n",
       "        18, 19, 20, 21, 22, 23, 24, 25, 26, 27, 28, 29, 30, 31, 32, 33, 34, 35,\n",
       "        36, 37, 38, 39, 40, 41, 42, 43, 44, 45, 46, 47, 48, 49, 50, 51, 52, 53,\n",
       "        54, 55, 56, 57, 58, 59, 60, 61, 62, 63, 64, 65, 66, 67, 68, 69, 70, 71,\n",
       "        72, 73, 74, 75, 76, 77, 78], device='cuda:0')"
      ]
     },
     "execution_count": 9,
     "metadata": {},
     "output_type": "execute_result"
    }
   ],
   "source": [
    "indexes[1969:2048]"
   ]
  },
  {
   "cell_type": "code",
   "execution_count": 10,
   "metadata": {},
   "outputs": [
    {
     "data": {
      "text/plain": [
       "tensor([[[ 0.0601,  0.0728,  0.0055,  ..., -0.0417,  0.0322,  0.0645],\n",
       "         [ 0.0261, -0.0476, -0.0334,  ...,  0.0391, -0.0068,  0.0132],\n",
       "         [ 0.0311,  0.0179, -0.0073,  ..., -0.0713, -0.0430,  0.0192],\n",
       "         ...,\n",
       "         [ 0.0000,  0.0000,  0.0000,  ...,  0.0000,  0.0000,  0.0000],\n",
       "         [ 0.0000,  0.0000,  0.0000,  ...,  0.0000,  0.0000,  0.0000],\n",
       "         [ 0.0000,  0.0000,  0.0000,  ...,  0.0000,  0.0000,  0.0000]],\n",
       "\n",
       "        [[ 0.0601,  0.0728,  0.0055,  ..., -0.0417,  0.0322,  0.0645],\n",
       "         [ 0.0466, -0.0903,  0.0013,  ..., -0.0153, -0.0181, -0.0342],\n",
       "         [-0.0303, -0.0113,  0.0020,  ..., -0.0410, -0.0630,  0.0111],\n",
       "         ...,\n",
       "         [ 0.0000,  0.0000,  0.0000,  ...,  0.0000,  0.0000,  0.0000],\n",
       "         [ 0.0000,  0.0000,  0.0000,  ...,  0.0000,  0.0000,  0.0000],\n",
       "         [ 0.0000,  0.0000,  0.0000,  ...,  0.0000,  0.0000,  0.0000]],\n",
       "\n",
       "        [[ 0.0601,  0.0728,  0.0055,  ..., -0.0417,  0.0322,  0.0645],\n",
       "         [-0.0422,  0.0425, -0.0693,  ...,  0.0251, -0.0217,  0.0239],\n",
       "         [ 0.0137, -0.0630,  0.0108,  ...,  0.0186, -0.0557,  0.0479],\n",
       "         ...,\n",
       "         [-0.0149,  0.0115, -0.0466,  ..., -0.0283, -0.0383,  0.0620],\n",
       "         [ 0.0815, -0.1396,  0.0439,  ..., -0.0183, -0.0330,  0.0273],\n",
       "         [ 0.0038, -0.0327, -0.0620,  ...,  0.0007,  0.0361, -0.0312]],\n",
       "\n",
       "        [[ 0.0601,  0.0728,  0.0055,  ..., -0.0417,  0.0322,  0.0645],\n",
       "         [ 0.0105, -0.0408, -0.0703,  ...,  0.0388,  0.0206,  0.0337],\n",
       "         [-0.0942,  0.0123,  0.0311,  ...,  0.0225, -0.0723, -0.0015],\n",
       "         ...,\n",
       "         [ 0.0000,  0.0000,  0.0000,  ...,  0.0000,  0.0000,  0.0000],\n",
       "         [ 0.0000,  0.0000,  0.0000,  ...,  0.0000,  0.0000,  0.0000],\n",
       "         [ 0.0000,  0.0000,  0.0000,  ...,  0.0000,  0.0000,  0.0000]],\n",
       "\n",
       "        [[ 0.0601,  0.0728,  0.0055,  ..., -0.0417,  0.0322,  0.0645],\n",
       "         [-0.0118, -0.0967,  0.0869,  ..., -0.0152,  0.0189, -0.0845],\n",
       "         [ 0.0137, -0.0640,  0.0045,  ...,  0.1094,  0.0042,  0.1011],\n",
       "         ...,\n",
       "         [ 0.0000,  0.0000,  0.0000,  ...,  0.0000,  0.0000,  0.0000],\n",
       "         [ 0.0000,  0.0000,  0.0000,  ...,  0.0000,  0.0000,  0.0000],\n",
       "         [ 0.0000,  0.0000,  0.0000,  ...,  0.0000,  0.0000,  0.0000]],\n",
       "\n",
       "        [[ 0.0601,  0.0728,  0.0055,  ..., -0.0417,  0.0322,  0.0645],\n",
       "         [-0.0128, -0.0469, -0.0125,  ..., -0.0544, -0.0008,  0.0104],\n",
       "         [-0.0113,  0.0258,  0.0306,  ...,  0.0898,  0.0088,  0.0184],\n",
       "         ...,\n",
       "         [ 0.0000,  0.0000,  0.0000,  ...,  0.0000,  0.0000,  0.0000],\n",
       "         [ 0.0000,  0.0000,  0.0000,  ...,  0.0000,  0.0000,  0.0000],\n",
       "         [ 0.0000,  0.0000,  0.0000,  ...,  0.0000,  0.0000,  0.0000]]],\n",
       "       device='cuda:0', dtype=torch.bfloat16, grad_fn=<CopySlices>)"
      ]
     },
     "execution_count": 10,
     "metadata": {},
     "output_type": "execute_result"
    }
   ],
   "source": [
    "max_seqlen = (cu_seqlens[1:] - cu_seqlens[:-1]).max().item() if cu_seqlens is not None else None\n",
    "unpacked_hidden_states = unpack(hidden_states=hidden_states, cu_seqlens=cu_seqlens, max_seqlen=max_seqlen)\n",
    "unpacked_hidden_states"
   ]
  },
  {
   "cell_type": "code",
   "execution_count": 11,
   "metadata": {},
   "outputs": [
    {
     "data": {
      "text/plain": [
       "tensor([[ 0.0601,  0.0728,  0.0055,  ..., -0.0417,  0.0322,  0.0645],\n",
       "        [ 0.0261, -0.0476, -0.0334,  ...,  0.0391, -0.0068,  0.0132],\n",
       "        [ 0.0311,  0.0179, -0.0073,  ..., -0.0713, -0.0430,  0.0192],\n",
       "        ...,\n",
       "        [ 0.0007, -0.0742, -0.0103,  ...,  0.0140, -0.0189, -0.0120],\n",
       "        [ 0.0464, -0.0408,  0.0574,  ..., -0.0067,  0.0874, -0.0503],\n",
       "        [ 0.0023,  0.0684,  0.0225,  ...,  0.0209, -0.0610,  0.0474]],\n",
       "       device='cuda:0', dtype=torch.bfloat16, grad_fn=<ViewBackward0>)"
      ]
     },
     "execution_count": 11,
     "metadata": {},
     "output_type": "execute_result"
    }
   ],
   "source": [
    "pack_back_hidden_states = pack(unpacked_tensors=unpacked_hidden_states, cu_seqlens=cu_seqlens)\n",
    "pack_back_hidden_states"
   ]
  },
  {
   "cell_type": "code",
   "execution_count": 12,
   "metadata": {},
   "outputs": [
    {
     "data": {
      "text/plain": [
       "True"
      ]
     },
     "execution_count": 12,
     "metadata": {},
     "output_type": "execute_result"
    }
   ],
   "source": [
    "# Check if the pack and unpack are correct\n",
    "torch.equal(hidden_states, pack_back_hidden_states)"
   ]
  },
  {
   "cell_type": "markdown",
   "metadata": {
    "jp-MarkdownHeadingCollapsed": true
   },
   "source": [
    "## Mamba example"
   ]
  },
  {
   "cell_type": "code",
   "execution_count": null,
   "metadata": {},
   "outputs": [],
   "source": [
    "from mamba_ssm.modules.mamba_simple import Mamba\n",
    "max_seqlen = (cu_seqlens[1:] - cu_seqlens[:-1]).max().item() if cu_seqlens is not None else None\n",
    "x = unpack(hidden_states=hidden_states, cu_seqlens=cu_seqlens, max_seqlen=max_seqlen).float()\n",
    "dim = x.shape[-1]\n",
    "\n",
    "model = Mamba(\n",
    "    # This module uses roughly 3 * expand * d_model^2 parameters\n",
    "    d_model=dim, # Model dimension d_model\n",
    "    d_state=16,  # SSM state expansion factor\n",
    "    d_conv=4,    # Local convolution width\n",
    "    expand=2,    # Block expansion factor\n",
    ").to('cuda:0')\n",
    "model(x)"
   ]
  },
  {
   "cell_type": "markdown",
   "metadata": {},
   "source": [
    "# ModifiedMamba"
   ]
  },
  {
   "cell_type": "code",
   "execution_count": null,
   "metadata": {},
   "outputs": [],
   "source": [
    "%load_ext autoreload\n",
    "%autoreload 2"
   ]
  },
  {
   "cell_type": "code",
   "execution_count": 1,
   "metadata": {},
   "outputs": [],
   "source": [
    "from mamba_ssm import Mamba\n",
    "import torch"
   ]
  },
  {
   "cell_type": "code",
   "execution_count": 2,
   "metadata": {},
   "outputs": [],
   "source": [
    "cu_seqlens = torch.load('cu_seqlens.pt', map_location=\"cuda:0\")\n",
    "indexes = torch.load('indexes.pt', map_location=\"cuda:0\")\n",
    "hidden_states = torch.load('packed_hidden_states.pt', map_location=\"cuda:0\")"
   ]
  },
  {
   "cell_type": "code",
   "execution_count": 3,
   "metadata": {},
   "outputs": [
    {
     "data": {
      "text/plain": [
       "tensor([   0,   86,  241, 1103, 1574, 1969, 2048], device='cuda:0',\n",
       "       dtype=torch.int32)"
      ]
     },
     "execution_count": 3,
     "metadata": {},
     "output_type": "execute_result"
    }
   ],
   "source": [
    "cu_seqlens"
   ]
  },
  {
   "cell_type": "code",
   "execution_count": 4,
   "metadata": {},
   "outputs": [
    {
     "data": {
      "text/plain": [
       "torch.Size([2063, 2048])"
      ]
     },
     "execution_count": 4,
     "metadata": {},
     "output_type": "execute_result"
    }
   ],
   "source": [
    "sequence_list = torch.split(hidden_states, (cu_seqlens[1:] - cu_seqlens[:-1]).tolist())\n",
    "zeros_inter = torch.zeros(3, hidden_states.size(1)).cuda()\n",
    "\n",
    "tensor_list = []\n",
    "for i, sequence in enumerate(sequence_list):\n",
    "    tensor_list.append(sequence)\n",
    "    if i < len(sequence_list) - 1:\n",
    "        tensor_list.append(zeros_inter.clone())\n",
    "\n",
    "result_list = torch.concat(tensor_list)\n",
    "result_list.shape"
   ]
  },
  {
   "cell_type": "code",
   "execution_count": 5,
   "metadata": {},
   "outputs": [
    {
     "data": {
      "text/plain": [
       "tensor([  89,  247, 1112, 1586, 1984], device='cuda:0')"
      ]
     },
     "execution_count": 5,
     "metadata": {},
     "output_type": "execute_result"
    }
   ],
   "source": [
    "start_indecies = torch.arange(len(sequence_list)+1).cuda() * 3\n",
    "start_indecies = (cu_seqlens + start_indecies)[1:-1]\n",
    "start_indecies = start_indecies\n",
    "start_indecies"
   ]
  },
  {
   "cell_type": "code",
   "execution_count": 6,
   "metadata": {},
   "outputs": [],
   "source": [
    "ckpt = torch.load('/mnt/petrelfs/wangzerui/code/train_ssm/mamba-ckpt-1.4B/pytorch_model.bin')"
   ]
  },
  {
   "cell_type": "code",
   "execution_count": 7,
   "metadata": {},
   "outputs": [],
   "source": [
    "from torch import nn\n",
    "dim = hidden_states.shape[-1]\n",
    "model = Mamba(\n",
    "    # This module uses roughly 3 * expand * d_model^2 parameters\n",
    "    d_model=dim, # Model dimension d_model\n",
    "    d_state=16,  # SSM state expansion factor\n",
    "    d_conv=4,    # Local convolution width\n",
    "    expand=2,    # Block expansion factor\n",
    "    use_fast_path=False,\n",
    ")\n",
    "model.in_proj.weight = nn.Parameter(ckpt['backbone.layers.0.mixer.in_proj.weight'])\n",
    "model.conv1d.weight = nn.Parameter(ckpt['backbone.layers.0.mixer.conv1d.weight'])\n",
    "model.D = nn.Parameter(ckpt['backbone.layers.0.mixer.D'])\n",
    "model.conv1d.bias = nn.Parameter(ckpt['backbone.layers.0.mixer.conv1d.bias'])\n",
    "model.x_proj.weight = nn.Parameter(ckpt['backbone.layers.0.mixer.x_proj.weight'])\n",
    "model.dt_proj.weight = nn.Parameter(ckpt['backbone.layers.0.mixer.dt_proj.weight'])\n",
    "model.dt_proj.bias = nn.Parameter(ckpt['backbone.layers.0.mixer.dt_proj.bias'])\n",
    "model.A_log = nn.Parameter(ckpt['backbone.layers.0.mixer.A_log'])\n",
    "model.out_proj.weight = nn.Parameter(ckpt['backbone.layers.0.mixer.out_proj.weight'])\n",
    "model = model.to('cuda:0')"
   ]
  },
  {
   "cell_type": "code",
   "execution_count": 8,
   "metadata": {},
   "outputs": [
    {
     "data": {
      "text/plain": [
       "torch.Size([2063, 2048])"
      ]
     },
     "execution_count": 8,
     "metadata": {},
     "output_type": "execute_result"
    }
   ],
   "source": [
    "result_list.size()"
   ]
  },
  {
   "cell_type": "code",
   "execution_count": 9,
   "metadata": {},
   "outputs": [
    {
     "data": {
      "text/plain": [
       "tensor([[0., 0., 0.,  ..., 0., 0., 0.],\n",
       "        [0., 0., 0.,  ..., 0., 0., 0.],\n",
       "        [0., 0., 0.,  ..., 0., 0., 0.],\n",
       "        ...,\n",
       "        [0., 0., 0.,  ..., 0., 0., 0.],\n",
       "        [0., 0., 0.,  ..., 0., 0., 0.],\n",
       "        [0., 0., 0.,  ..., 0., 0., 0.]], device='cuda:0',\n",
       "       grad_fn=<SubBackward0>)"
      ]
     },
     "execution_count": 9,
     "metadata": {},
     "output_type": "execute_result"
    }
   ],
   "source": [
    "tensor_list[2] - result_list[89:244]"
   ]
  },
  {
   "cell_type": "code",
   "execution_count": 10,
   "metadata": {
    "editable": true,
    "slideshow": {
     "slide_type": ""
    },
    "tags": []
   },
   "outputs": [
    {
     "data": {
      "text/plain": [
       "tensor([[[ 0.0045, -0.0064, -0.0049,  ...,  0.0072, -0.0067, -0.0015],\n",
       "         [ 0.0017,  0.0082,  0.0023,  ..., -0.0035,  0.0002, -0.0076],\n",
       "         [-0.0049, -0.0077, -0.0040,  ...,  0.0025, -0.0043, -0.0007],\n",
       "         ...,\n",
       "         [-0.0154,  0.0111, -0.0051,  ..., -0.0027, -0.0177,  0.0217],\n",
       "         [ 0.0064, -0.0137,  0.0193,  ...,  0.0096, -0.0096,  0.0073],\n",
       "         [ 0.0160,  0.0276, -0.0057,  ..., -0.0105, -0.0158, -0.0119]]],\n",
       "       device='cuda:0', grad_fn=<SliceBackward0>)"
      ]
     },
     "execution_count": 10,
     "metadata": {},
     "output_type": "execute_result"
    }
   ],
   "source": [
    "x = result_list.unsqueeze(0)\n",
    "y_pad = model(x, start_indecies=start_indecies)\n",
    "y_pad[:, 89: 244, :]"
   ]
  },
  {
   "cell_type": "code",
   "execution_count": 11,
   "metadata": {},
   "outputs": [],
   "source": [
    "x = tensor_list[2].float().unsqueeze(0)\n",
    "dim = x.shape[-1]\n",
    "y = model(x, start_indecies=[])"
   ]
  },
  {
   "cell_type": "code",
   "execution_count": 12,
   "metadata": {},
   "outputs": [
    {
     "data": {
      "text/plain": [
       "tensor([[[ 0.0045, -0.0064, -0.0049,  ...,  0.0072, -0.0067, -0.0015],\n",
       "         [ 0.0017,  0.0082,  0.0023,  ..., -0.0035,  0.0002, -0.0076],\n",
       "         [-0.0049, -0.0077, -0.0040,  ...,  0.0025, -0.0043, -0.0007],\n",
       "         ...,\n",
       "         [-0.0154,  0.0111, -0.0051,  ..., -0.0027, -0.0177,  0.0217],\n",
       "         [ 0.0064, -0.0137,  0.0193,  ...,  0.0096, -0.0096,  0.0073],\n",
       "         [ 0.0160,  0.0276, -0.0057,  ..., -0.0105, -0.0158, -0.0119]]],\n",
       "       device='cuda:0', grad_fn=<SliceBackward0>)"
      ]
     },
     "execution_count": 12,
     "metadata": {},
     "output_type": "execute_result"
    }
   ],
   "source": [
    "y[:, :, :]"
   ]
  }
 ],
 "metadata": {
  "kernelspec": {
   "display_name": "Python 3 (ipykernel)",
   "language": "python",
   "name": "python3"
  },
  "language_info": {
   "codemirror_mode": {
    "name": "ipython",
    "version": 3
   },
   "file_extension": ".py",
   "mimetype": "text/x-python",
   "name": "python",
   "nbconvert_exporter": "python",
   "pygments_lexer": "ipython3",
   "version": "3.10.0"
  }
 },
 "nbformat": 4,
 "nbformat_minor": 4
}
